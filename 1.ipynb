{
  "nbformat": 4,
  "nbformat_minor": 0,
  "metadata": {
    "colab": {
      "name": "1.ipynb",
      "provenance": [],
      "authorship_tag": "ABX9TyPZVIljJVT5w4W6NgV31/7+",
      "include_colab_link": true
    },
    "kernelspec": {
      "name": "python3",
      "display_name": "Python 3"
    }
  },
  "cells": [
    {
      "cell_type": "markdown",
      "metadata": {
        "id": "view-in-github",
        "colab_type": "text"
      },
      "source": [
        "<a href=\"https://colab.research.google.com/github/moheeb595/Assignment1/blob/master/1.ipynb\" target=\"_parent\"><img src=\"https://colab.research.google.com/assets/colab-badge.svg\" alt=\"Open In Colab\"/></a>"
      ]
    },
    {
      "cell_type": "code",
      "metadata": {
        "id": "Z8V0T1aNWWFO",
        "colab_type": "code",
        "colab": {
          "base_uri": "https://localhost:8080/",
          "height": 68
        },
        "outputId": "876e5798-a2e9-4e70-c34c-c997f8552edb"
      },
      "source": [
        "year=int(input(\"ennter a number\"))\n",
        "y=[\"monkey\",\"rooster\",\"dog\",\"pig\",\"rat\",\"ox\",\"tiger\",\"rabbit\",\"dragon\",\"snake\",\"horse\",\"sheep\"]\n",
        "n=year%12\n",
        "print(y[n])\n",
        "print(2020%12)\n",
        "\n"
      ],
      "execution_count": 4,
      "outputs": [
        {
          "output_type": "stream",
          "text": [
            "ennter a number2020\n",
            "rat\n",
            "4\n"
          ],
          "name": "stdout"
        }
      ]
    }
  ]
}