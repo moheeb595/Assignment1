{
  "nbformat": 4,
  "nbformat_minor": 0,
  "metadata": {
    "colab": {
      "name": "2.ipynb",
      "provenance": [],
      "authorship_tag": "ABX9TyOk3zR0Ee3uzwrk8tjI5TM+"
    },
    "kernelspec": {
      "name": "python3",
      "display_name": "Python 3"
    }
  },
  "cells": [
    {
      "cell_type": "code",
      "metadata": {
        "id": "h2n2r_lEawId",
        "colab_type": "code",
        "colab": {
          "base_uri": "https://localhost:8080/",
          "height": 68
        },
        "outputId": "376d2d7e-b333-4585-94ec-7b7f343e458d"
      },
      "source": [
        "d=int(input(\"enter distance to be travelled\"))\n",
        "w=int(input(\"enter wieght of goods\"))\n",
        "\n",
        "if(d>=500):\n",
        "  if(w>=100):\n",
        "    print(5*d)\n",
        "  elif(w>=10)|(w<100): \n",
        "     print(6*d)\n",
        "  elif(w<10): \n",
        "    print(7*d)\n",
        "else:\n",
        "  if(w>=100):\n",
        "    print(8*d)\n",
        "  else:\n",
        "     print(5*d)\n",
        "\n",
        "\n",
        "\n",
        "\n"
      ],
      "execution_count": 10,
      "outputs": [
        {
          "output_type": "stream",
          "text": [
            "enter distance to be travelled520\n",
            "enter wieght of goods50\n",
            "3120\n"
          ],
          "name": "stdout"
        }
      ]
    }
  ]
}