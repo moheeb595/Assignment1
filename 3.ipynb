{
  "nbformat": 4,
  "nbformat_minor": 0,
  "metadata": {
    "colab": {
      "name": "3.ipynb",
      "provenance": [],
      "authorship_tag": "ABX9TyNHtT3bSy02d59qNcw9hfMp"
    },
    "kernelspec": {
      "name": "python3",
      "display_name": "Python 3"
    }
  },
  "cells": [
    {
      "cell_type": "code",
      "metadata": {
        "id": "h2n2r_lEawId",
        "colab_type": "code",
        "colab": {
          "base_uri": "https://localhost:8080/",
          "height": 102
        },
        "outputId": "ed316bfa-5049-4be6-f455-2b6a71a5ec24"
      },
      "source": [
        "print(\"ticket rates\")\n",
        "ticket=[\"stall=625\",\"circle=750\",\"upper=850\",\"box=1000\"]\n",
        "print(ticket)\n",
        "t=input(\"enter seat type \")\n",
        "p=input(\"enter payment mode\")\n",
        "if(t==\"stall\"):\n",
        " price=625\n",
        "elif(t==\"circle\"):\n",
        " price=750\n",
        "elif(t==\"upper\"):\n",
        " price=850\n",
        "elif(t==\"box\"):\n",
        " price=1000\n",
        "if(p==\"cash\"):\n",
        " print(price)\n",
        "else:\n",
        " print(price-(price*5/100))\n",
        " \n",
        "\n",
        "\n",
        "\n",
        "\n"
      ],
      "execution_count": 20,
      "outputs": [
        {
          "output_type": "stream",
          "text": [
            "ticket rates\n",
            "['stall=625', 'circle=750', 'upper=850', 'box=1000']\n",
            "enter seat type circle\n",
            "enter payment modecash\n",
            "750\n"
          ],
          "name": "stdout"
        }
      ]
    }
  ]
}